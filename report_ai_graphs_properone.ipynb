{
  "nbformat": 4,
  "nbformat_minor": 0,
  "metadata": {
    "colab": {
      "name": "report_ai_graphs_properone.ipynb",
      "provenance": [],
      "collapsed_sections": []
    },
    "kernelspec": {
      "name": "python3",
      "display_name": "Python 3"
    },
    "accelerator": "GPU"
  },
  "cells": [
    {
      "cell_type": "code",
      "metadata": {
        "id": "Lu7Mw_guQf1U",
        "colab_type": "code",
        "outputId": "fc180bc6-97f8-455d-9d20-840dedd116a3",
        "colab": {
          "base_uri": "https://localhost:8080/",
          "height": 34
        }
      },
      "source": [
        "from google.colab import drive\n",
        "drive.mount('/content/drive')"
      ],
      "execution_count": 0,
      "outputs": [
        {
          "output_type": "stream",
          "text": [
            "Drive already mounted at /content/drive; to attempt to forcibly remount, call drive.mount(\"/content/drive\", force_remount=True).\n"
          ],
          "name": "stdout"
        }
      ]
    },
    {
      "cell_type": "code",
      "metadata": {
        "id": "fIaDORusRBjA",
        "colab_type": "code",
        "outputId": "0b7efa0d-7198-4871-d909-95b55fe2d5f8",
        "colab": {
          "base_uri": "https://localhost:8080/",
          "height": 34
        }
      },
      "source": [
        "from keras import applications\n",
        "from keras.preprocessing.image import ImageDataGenerator\n",
        "from keras import optimizers\n",
        "from keras.models import Sequential, Model \n",
        "from keras.layers import Dropout, Flatten, Dense, GlobalAveragePooling2D\n",
        "from keras import backend as k \n",
        "from keras.callbacks import ModelCheckpoint, LearningRateScheduler, TensorBoard, EarlyStopping\n"
      ],
      "execution_count": 0,
      "outputs": [
        {
          "output_type": "stream",
          "text": [
            "Using TensorFlow backend.\n"
          ],
          "name": "stderr"
        }
      ]
    },
    {
      "cell_type": "code",
      "metadata": {
        "id": "jq6tyLcZJUTM",
        "colab_type": "code",
        "colab": {}
      },
      "source": [
        "import os\n",
        "\n",
        "\n",
        "img_width, img_height = 224, 224\n",
        "train_data_dir = \"/content/drive/My Drive/train_AI_new\"\n",
        "validation_data_dir = \"/content/drive/My Drive/validation_AI_new\"\n",
        "\n",
        "train_samples = [len(os.listdir(train_data_dir+'/'+i)) for i in sorted(os.listdir(train_data_dir))]\n",
        "nb_train_samples = sum(train_samples)\n",
        "\n",
        "validation_samples = [len(os.listdir(validation_data_dir+'/'+i)) for i in sorted(os.listdir(validation_data_dir))]\n",
        "nb_validation_samples = sum(validation_samples)\n",
        "\n",
        "#nb_train_samples = 1472\n",
        "#nb_validation_samples = 159 \n",
        "batch_size = 16\n",
        "epochs = 100"
      ],
      "execution_count": 0,
      "outputs": []
    },
    {
      "cell_type": "code",
      "metadata": {
        "id": "f9xKsKfGJXwv",
        "colab_type": "code",
        "outputId": "89a42799-5d51-4123-a9f1-7289f14e8f53",
        "colab": {
          "base_uri": "https://localhost:8080/",
          "height": 121
        }
      },
      "source": [
        "model = applications.VGG19(weights = \"imagenet\", include_top=False, input_shape = (img_width, img_height, 3))\n"
      ],
      "execution_count": 0,
      "outputs": [
        {
          "output_type": "stream",
          "text": [
            "WARNING:tensorflow:From /usr/local/lib/python3.6/dist-packages/tensorflow/python/framework/op_def_library.py:263: colocate_with (from tensorflow.python.framework.ops) is deprecated and will be removed in a future version.\n",
            "Instructions for updating:\n",
            "Colocations handled automatically by placer.\n",
            "Downloading data from https://github.com/fchollet/deep-learning-models/releases/download/v0.1/vgg19_weights_tf_dim_ordering_tf_kernels_notop.h5\n",
            "80142336/80134624 [==============================] - 1s 0us/step\n"
          ],
          "name": "stdout"
        }
      ]
    },
    {
      "cell_type": "code",
      "metadata": {
        "id": "HNjA-tF-Jcwr",
        "colab_type": "code",
        "colab": {}
      },
      "source": [
        "for layer in model.layers[:5]:\n",
        "    layer.trainable = False"
      ],
      "execution_count": 0,
      "outputs": []
    },
    {
      "cell_type": "code",
      "metadata": {
        "id": "N9UsSSpXJn_-",
        "colab_type": "code",
        "outputId": "b27c1cb3-79c9-4718-c57e-9e1db85ce65e",
        "colab": {
          "base_uri": "https://localhost:8080/",
          "height": 87
        }
      },
      "source": [
        "from keras.regularizers import l2\n",
        "x = model.output\n",
        "x = Flatten()(x)\n",
        "x = Dense(512, activation=\"relu\")(x)\n",
        "x = Dropout(0.5)(x)\n",
        "# x = Dense(512, activity_regularizer=l2(0.001), activation=\"relu\")(x)\n",
        "# x = Dropout(0.55)(x)\n",
        "predictions = Dense(1, activation=\"sigmoid\")(x)"
      ],
      "execution_count": 0,
      "outputs": [
        {
          "output_type": "stream",
          "text": [
            "WARNING:tensorflow:From /usr/local/lib/python3.6/dist-packages/keras/backend/tensorflow_backend.py:3445: calling dropout (from tensorflow.python.ops.nn_ops) with keep_prob is deprecated and will be removed in a future version.\n",
            "Instructions for updating:\n",
            "Please use `rate` instead of `keep_prob`. Rate should be set to `rate = 1 - keep_prob`.\n"
          ],
          "name": "stdout"
        }
      ]
    },
    {
      "cell_type": "code",
      "metadata": {
        "id": "0RXsVyAWJqfk",
        "colab_type": "code",
        "outputId": "9f08e749-c024-43a6-dc66-c74523cad2b3",
        "colab": {
          "base_uri": "https://localhost:8080/",
          "height": 50
        }
      },
      "source": [
        "model_final = Model(input = model.input, output = predictions)\n",
        "# model_final.load_weights(\"/content/drive/My Drive/frozen_sgd.h5\")"
      ],
      "execution_count": 0,
      "outputs": [
        {
          "output_type": "stream",
          "text": [
            "/usr/local/lib/python3.6/dist-packages/ipykernel_launcher.py:1: UserWarning: Update your `Model` call to the Keras 2 API: `Model(inputs=Tensor(\"in..., outputs=Tensor(\"de...)`\n",
            "  \"\"\"Entry point for launching an IPython kernel.\n"
          ],
          "name": "stderr"
        }
      ]
    },
    {
      "cell_type": "code",
      "metadata": {
        "id": "7o6_oAVTfm_L",
        "colab_type": "code",
        "outputId": "0ad32a6b-5efe-4483-aa09-820dfaa6e989",
        "colab": {
          "base_uri": "https://localhost:8080/",
          "height": 1008
        }
      },
      "source": [
        "model_final.summary()"
      ],
      "execution_count": 0,
      "outputs": [
        {
          "output_type": "stream",
          "text": [
            "_________________________________________________________________\n",
            "Layer (type)                 Output Shape              Param #   \n",
            "=================================================================\n",
            "input_1 (InputLayer)         (None, 224, 224, 3)       0         \n",
            "_________________________________________________________________\n",
            "block1_conv1 (Conv2D)        (None, 224, 224, 64)      1792      \n",
            "_________________________________________________________________\n",
            "block1_conv2 (Conv2D)        (None, 224, 224, 64)      36928     \n",
            "_________________________________________________________________\n",
            "block1_pool (MaxPooling2D)   (None, 112, 112, 64)      0         \n",
            "_________________________________________________________________\n",
            "block2_conv1 (Conv2D)        (None, 112, 112, 128)     73856     \n",
            "_________________________________________________________________\n",
            "block2_conv2 (Conv2D)        (None, 112, 112, 128)     147584    \n",
            "_________________________________________________________________\n",
            "block2_pool (MaxPooling2D)   (None, 56, 56, 128)       0         \n",
            "_________________________________________________________________\n",
            "block3_conv1 (Conv2D)        (None, 56, 56, 256)       295168    \n",
            "_________________________________________________________________\n",
            "block3_conv2 (Conv2D)        (None, 56, 56, 256)       590080    \n",
            "_________________________________________________________________\n",
            "block3_conv3 (Conv2D)        (None, 56, 56, 256)       590080    \n",
            "_________________________________________________________________\n",
            "block3_conv4 (Conv2D)        (None, 56, 56, 256)       590080    \n",
            "_________________________________________________________________\n",
            "block3_pool (MaxPooling2D)   (None, 28, 28, 256)       0         \n",
            "_________________________________________________________________\n",
            "block4_conv1 (Conv2D)        (None, 28, 28, 512)       1180160   \n",
            "_________________________________________________________________\n",
            "block4_conv2 (Conv2D)        (None, 28, 28, 512)       2359808   \n",
            "_________________________________________________________________\n",
            "block4_conv3 (Conv2D)        (None, 28, 28, 512)       2359808   \n",
            "_________________________________________________________________\n",
            "block4_conv4 (Conv2D)        (None, 28, 28, 512)       2359808   \n",
            "_________________________________________________________________\n",
            "block4_pool (MaxPooling2D)   (None, 14, 14, 512)       0         \n",
            "_________________________________________________________________\n",
            "block5_conv1 (Conv2D)        (None, 14, 14, 512)       2359808   \n",
            "_________________________________________________________________\n",
            "block5_conv2 (Conv2D)        (None, 14, 14, 512)       2359808   \n",
            "_________________________________________________________________\n",
            "block5_conv3 (Conv2D)        (None, 14, 14, 512)       2359808   \n",
            "_________________________________________________________________\n",
            "block5_conv4 (Conv2D)        (None, 14, 14, 512)       2359808   \n",
            "_________________________________________________________________\n",
            "block5_pool (MaxPooling2D)   (None, 7, 7, 512)         0         \n",
            "_________________________________________________________________\n",
            "flatten_1 (Flatten)          (None, 25088)             0         \n",
            "_________________________________________________________________\n",
            "dense_1 (Dense)              (None, 512)               12845568  \n",
            "_________________________________________________________________\n",
            "dropout_1 (Dropout)          (None, 512)               0         \n",
            "_________________________________________________________________\n",
            "dense_2 (Dense)              (None, 1)                 513       \n",
            "=================================================================\n",
            "Total params: 32,870,465\n",
            "Trainable params: 32,757,889\n",
            "Non-trainable params: 112,576\n",
            "_________________________________________________________________\n"
          ],
          "name": "stdout"
        }
      ]
    },
    {
      "cell_type": "code",
      "metadata": {
        "id": "j6gWF6WdJs4s",
        "colab_type": "code",
        "colab": {}
      },
      "source": [
        "\n",
        "from keras.utils.vis_utils import plot_model\n",
        "model_final.compile(loss = \"binary_crossentropy\", optimizer = optimizers.SGD(lr=1e-4,momentum=0.9), metrics=[\"accuracy\"])\n",
        "# plot_model(model_final, to_file='model_plot.png', show_shapes=True, show_layer_names=True)"
      ],
      "execution_count": 0,
      "outputs": []
    },
    {
      "cell_type": "code",
      "metadata": {
        "id": "qIbPWJycJyJF",
        "colab_type": "code",
        "colab": {}
      },
      "source": [
        "train_datagen = ImageDataGenerator(\n",
        "rescale = 1./255,\n",
        "shear_range=0.2,\n",
        "horizontal_flip = True,\n",
        "fill_mode = \"nearest\",\n",
        "zoom_range = 0.2,\n",
        "width_shift_range = 0.2,\n",
        "height_shift_range=0.2,\n",
        "rotation_range=20)"
      ],
      "execution_count": 0,
      "outputs": []
    },
    {
      "cell_type": "code",
      "metadata": {
        "id": "8Kum78IGJ2uu",
        "colab_type": "code",
        "colab": {}
      },
      "source": [
        "\n",
        "test_datagen = ImageDataGenerator(\n",
        "rescale = 1./255,\n",
        "shear_range=0.2,\n",
        "horizontal_flip = True,\n",
        "fill_mode = \"nearest\",\n",
        "zoom_range = 0.2,\n",
        "width_shift_range = 0.2,\n",
        "height_shift_range=0.2,\n",
        "rotation_range=20)\n"
      ],
      "execution_count": 0,
      "outputs": []
    },
    {
      "cell_type": "code",
      "metadata": {
        "id": "1VAzkGoGJ3dE",
        "colab_type": "code",
        "outputId": "4161a22c-351d-4f62-8a48-465475791634",
        "colab": {
          "base_uri": "https://localhost:8080/",
          "height": 34
        }
      },
      "source": [
        "path = '/content/drive/My Drive/image_aug'\n",
        "train_generator = train_datagen.flow_from_directory(\n",
        "train_data_dir,\n",
        "target_size = (img_height, img_width),\n",
        "batch_size = batch_size, \n",
        "class_mode = \"binary\")"
      ],
      "execution_count": 0,
      "outputs": [
        {
          "output_type": "stream",
          "text": [
            "Found 1353 images belonging to 2 classes.\n"
          ],
          "name": "stdout"
        }
      ]
    },
    {
      "cell_type": "code",
      "metadata": {
        "id": "0cpzN6s3J5oj",
        "colab_type": "code",
        "outputId": "9faacc8b-477d-4fc8-af88-c0ada2b24d66",
        "colab": {
          "base_uri": "https://localhost:8080/",
          "height": 34
        }
      },
      "source": [
        "\n",
        "validation_generator = test_datagen.flow_from_directory(\n",
        "validation_data_dir,shuffle=True,batch_size = batch_size, \n",
        "target_size = (img_height, img_width),\n",
        "class_mode = \"binary\")"
      ],
      "execution_count": 0,
      "outputs": [
        {
          "output_type": "stream",
          "text": [
            "Found 326 images belonging to 2 classes.\n"
          ],
          "name": "stdout"
        }
      ]
    },
    {
      "cell_type": "code",
      "metadata": {
        "id": "p0Al6KVeJ8ct",
        "colab_type": "code",
        "colab": {}
      },
      "source": [
        "checkpoint = ModelCheckpoint(\"/content/frozen_sgd.h5\", monitor='val_acc', verbose=1, save_best_only=True, save_weights_only=False, mode='auto', period=1)\n",
        "early = EarlyStopping(monitor='val_acc', min_delta=0, patience=15, verbose=1, mode='auto')\n"
      ],
      "execution_count": 0,
      "outputs": []
    },
    {
      "cell_type": "code",
      "metadata": {
        "id": "CxLtlNNUKDjS",
        "colab_type": "code",
        "outputId": "6af2068e-2764-4e83-961a-8bd693dfd3d2",
        "colab": {
          "base_uri": "https://localhost:8080/",
          "height": 3531
        }
      },
      "source": [
        "history = model_final.fit_generator(\n",
        "train_generator,\n",
        "steps_per_epoch = nb_train_samples//batch_size,\n",
        "epochs = 150,\n",
        "validation_data = validation_generator,\n",
        "validation_steps = nb_validation_samples//batch_size,\n",
        "callbacks = [checkpoint, early])"
      ],
      "execution_count": 0,
      "outputs": [
        {
          "output_type": "stream",
          "text": [
            "WARNING:tensorflow:From /usr/local/lib/python3.6/dist-packages/tensorflow/python/ops/math_ops.py:3066: to_int32 (from tensorflow.python.ops.math_ops) is deprecated and will be removed in a future version.\n",
            "Instructions for updating:\n",
            "Use tf.cast instead.\n",
            "Epoch 1/150\n",
            "84/84 [==============================] - 431s 5s/step - loss: 0.5850 - acc: 0.6853 - val_loss: 0.3256 - val_acc: 0.8781\n",
            "\n",
            "Epoch 00001: val_acc improved from -inf to 0.87813, saving model to /content/frozen_sgd.h5\n",
            "Epoch 2/150\n",
            "84/84 [==============================] - 43s 515ms/step - loss: 0.3069 - acc: 0.8729 - val_loss: 0.2584 - val_acc: 0.9129\n",
            "\n",
            "Epoch 00002: val_acc improved from 0.87813 to 0.91290, saving model to /content/frozen_sgd.h5\n",
            "Epoch 3/150\n",
            "84/84 [==============================] - 41s 491ms/step - loss: 0.2285 - acc: 0.9111 - val_loss: 0.2127 - val_acc: 0.9355\n",
            "\n",
            "Epoch 00003: val_acc improved from 0.91290 to 0.93548, saving model to /content/frozen_sgd.h5\n",
            "Epoch 4/150\n",
            "84/84 [==============================] - 41s 494ms/step - loss: 0.1914 - acc: 0.9235 - val_loss: 0.1351 - val_acc: 0.9581\n",
            "\n",
            "Epoch 00004: val_acc improved from 0.93548 to 0.95806, saving model to /content/frozen_sgd.h5\n",
            "Epoch 5/150\n",
            "84/84 [==============================] - 41s 493ms/step - loss: 0.1556 - acc: 0.9375 - val_loss: 0.3529 - val_acc: 0.8548\n",
            "\n",
            "Epoch 00005: val_acc did not improve from 0.95806\n",
            "Epoch 6/150\n",
            "84/84 [==============================] - 41s 493ms/step - loss: 0.1382 - acc: 0.9466 - val_loss: 0.2262 - val_acc: 0.9065\n",
            "\n",
            "Epoch 00006: val_acc did not improve from 0.95806\n",
            "Epoch 7/150\n",
            "84/84 [==============================] - 41s 491ms/step - loss: 0.1116 - acc: 0.9554 - val_loss: 0.1263 - val_acc: 0.9355\n",
            "\n",
            "Epoch 00007: val_acc did not improve from 0.95806\n",
            "Epoch 8/150\n",
            "84/84 [==============================] - 42s 496ms/step - loss: 0.1022 - acc: 0.9606 - val_loss: 0.1206 - val_acc: 0.9613\n",
            "\n",
            "Epoch 00008: val_acc improved from 0.95806 to 0.96129, saving model to /content/frozen_sgd.h5\n",
            "Epoch 9/150\n",
            "84/84 [==============================] - 42s 495ms/step - loss: 0.1126 - acc: 0.9516 - val_loss: 0.1248 - val_acc: 0.9548\n",
            "\n",
            "Epoch 00009: val_acc did not improve from 0.96129\n",
            "Epoch 10/150\n",
            "84/84 [==============================] - 42s 498ms/step - loss: 0.0687 - acc: 0.9717 - val_loss: 0.0880 - val_acc: 0.9774\n",
            "\n",
            "Epoch 00010: val_acc improved from 0.96129 to 0.97742, saving model to /content/frozen_sgd.h5\n",
            "Epoch 11/150\n",
            "84/84 [==============================] - 44s 520ms/step - loss: 0.0924 - acc: 0.9643 - val_loss: 0.1474 - val_acc: 0.9387\n",
            "\n",
            "Epoch 00011: val_acc did not improve from 0.97742\n",
            "Epoch 12/150\n",
            "84/84 [==============================] - 43s 508ms/step - loss: 0.0774 - acc: 0.9702 - val_loss: 0.0822 - val_acc: 0.9774\n",
            "\n",
            "Epoch 00012: val_acc did not improve from 0.97742\n",
            "Epoch 13/150\n",
            "84/84 [==============================] - 41s 483ms/step - loss: 0.0590 - acc: 0.9777 - val_loss: 0.1245 - val_acc: 0.9613\n",
            "\n",
            "Epoch 00013: val_acc did not improve from 0.97742\n",
            "Epoch 14/150\n",
            "84/84 [==============================] - 41s 486ms/step - loss: 0.0752 - acc: 0.9725 - val_loss: 0.0867 - val_acc: 0.9742\n",
            "\n",
            "Epoch 00014: val_acc did not improve from 0.97742\n",
            "Epoch 15/150\n",
            "84/84 [==============================] - 41s 483ms/step - loss: 0.0692 - acc: 0.9747 - val_loss: 0.1297 - val_acc: 0.9645\n",
            "\n",
            "Epoch 00015: val_acc did not improve from 0.97742\n",
            "Epoch 16/150\n",
            "84/84 [==============================] - 43s 507ms/step - loss: 0.0455 - acc: 0.9838 - val_loss: 0.1214 - val_acc: 0.9581\n",
            "\n",
            "Epoch 00016: val_acc did not improve from 0.97742\n",
            "Epoch 17/150\n",
            "84/84 [==============================] - 42s 505ms/step - loss: 0.0420 - acc: 0.9829 - val_loss: 0.0593 - val_acc: 0.9774\n",
            "\n",
            "Epoch 00017: val_acc did not improve from 0.97742\n",
            "Epoch 18/150\n",
            "84/84 [==============================] - 41s 485ms/step - loss: 0.0488 - acc: 0.9792 - val_loss: 0.2082 - val_acc: 0.9258\n",
            "\n",
            "Epoch 00018: val_acc did not improve from 0.97742\n",
            "Epoch 19/150\n",
            "84/84 [==============================] - 43s 513ms/step - loss: 0.0542 - acc: 0.9793 - val_loss: 0.0932 - val_acc: 0.9645\n",
            "\n",
            "Epoch 00019: val_acc did not improve from 0.97742\n",
            "Epoch 20/150\n",
            "84/84 [==============================] - 41s 492ms/step - loss: 0.0590 - acc: 0.9814 - val_loss: 0.0986 - val_acc: 0.9581\n",
            "\n",
            "Epoch 00020: val_acc did not improve from 0.97742\n",
            "Epoch 21/150\n",
            "84/84 [==============================] - 41s 486ms/step - loss: 0.0522 - acc: 0.9801 - val_loss: 0.1870 - val_acc: 0.9290\n",
            "\n",
            "Epoch 00021: val_acc did not improve from 0.97742\n",
            "Epoch 22/150\n",
            "84/84 [==============================] - 44s 522ms/step - loss: 0.0274 - acc: 0.9896 - val_loss: 0.1863 - val_acc: 0.9375\n",
            "\n",
            "Epoch 00022: val_acc did not improve from 0.97742\n",
            "Epoch 23/150\n",
            "84/84 [==============================] - 41s 489ms/step - loss: 0.0634 - acc: 0.9754 - val_loss: 0.1839 - val_acc: 0.9355\n",
            "\n",
            "Epoch 00023: val_acc did not improve from 0.97742\n",
            "Epoch 24/150\n",
            "84/84 [==============================] - 42s 500ms/step - loss: 0.0323 - acc: 0.9903 - val_loss: 0.1413 - val_acc: 0.9548\n",
            "\n",
            "Epoch 00024: val_acc did not improve from 0.97742\n",
            "Epoch 25/150\n",
            "84/84 [==============================] - 42s 496ms/step - loss: 0.0440 - acc: 0.9821 - val_loss: 0.0544 - val_acc: 0.9839\n",
            "\n",
            "Epoch 00025: val_acc improved from 0.97742 to 0.98387, saving model to /content/frozen_sgd.h5\n",
            "Epoch 26/150\n",
            "84/84 [==============================] - 45s 534ms/step - loss: 0.0254 - acc: 0.9911 - val_loss: 0.0843 - val_acc: 0.9710\n",
            "\n",
            "Epoch 00026: val_acc did not improve from 0.98387\n",
            "Epoch 27/150\n",
            "84/84 [==============================] - 42s 506ms/step - loss: 0.0346 - acc: 0.9851 - val_loss: 0.2025 - val_acc: 0.9323\n",
            "\n",
            "Epoch 00027: val_acc did not improve from 0.98387\n",
            "Epoch 28/150\n",
            "84/84 [==============================] - 41s 488ms/step - loss: 0.0241 - acc: 0.9933 - val_loss: 0.1033 - val_acc: 0.9548\n",
            "\n",
            "Epoch 00028: val_acc did not improve from 0.98387\n",
            "Epoch 29/150\n",
            "84/84 [==============================] - 42s 503ms/step - loss: 0.0163 - acc: 0.9940 - val_loss: 0.2156 - val_acc: 0.9258\n",
            "\n",
            "Epoch 00029: val_acc did not improve from 0.98387\n",
            "Epoch 30/150\n",
            "84/84 [==============================] - 42s 503ms/step - loss: 0.0409 - acc: 0.9868 - val_loss: 0.0453 - val_acc: 0.9806\n",
            "\n",
            "Epoch 00030: val_acc did not improve from 0.98387\n",
            "Epoch 31/150\n",
            "84/84 [==============================] - 41s 494ms/step - loss: 0.0403 - acc: 0.9860 - val_loss: 0.1022 - val_acc: 0.9613\n",
            "\n",
            "Epoch 00031: val_acc did not improve from 0.98387\n",
            "Epoch 32/150\n",
            "84/84 [==============================] - 42s 495ms/step - loss: 0.0234 - acc: 0.9948 - val_loss: 0.1850 - val_acc: 0.9387\n",
            "\n",
            "Epoch 00032: val_acc did not improve from 0.98387\n",
            "Epoch 33/150\n",
            "84/84 [==============================] - 42s 497ms/step - loss: 0.0324 - acc: 0.9853 - val_loss: 0.0832 - val_acc: 0.9677\n",
            "\n",
            "Epoch 00033: val_acc did not improve from 0.98387\n",
            "Epoch 34/150\n",
            "84/84 [==============================] - 42s 503ms/step - loss: 0.0508 - acc: 0.9807 - val_loss: 0.1191 - val_acc: 0.9452\n",
            "\n",
            "Epoch 00034: val_acc did not improve from 0.98387\n",
            "Epoch 35/150\n",
            "84/84 [==============================] - 44s 528ms/step - loss: 0.0210 - acc: 0.9911 - val_loss: 0.1121 - val_acc: 0.9613\n",
            "\n",
            "Epoch 00035: val_acc did not improve from 0.98387\n",
            "Epoch 36/150\n",
            "84/84 [==============================] - 44s 520ms/step - loss: 0.0325 - acc: 0.9896 - val_loss: 0.0399 - val_acc: 0.9871\n",
            "\n",
            "Epoch 00036: val_acc improved from 0.98387 to 0.98710, saving model to /content/frozen_sgd.h5\n",
            "Epoch 37/150\n",
            "84/84 [==============================] - 42s 498ms/step - loss: 0.0253 - acc: 0.9911 - val_loss: 0.1336 - val_acc: 0.9710\n",
            "\n",
            "Epoch 00037: val_acc did not improve from 0.98710\n",
            "Epoch 38/150\n",
            "84/84 [==============================] - 41s 494ms/step - loss: 0.0222 - acc: 0.9933 - val_loss: 0.1727 - val_acc: 0.9387\n",
            "\n",
            "Epoch 00038: val_acc did not improve from 0.98710\n",
            "Epoch 39/150\n",
            "84/84 [==============================] - 42s 495ms/step - loss: 0.0441 - acc: 0.9836 - val_loss: 0.0686 - val_acc: 0.9742\n",
            "\n",
            "Epoch 00039: val_acc did not improve from 0.98710\n",
            "Epoch 40/150\n",
            "84/84 [==============================] - 42s 500ms/step - loss: 0.0203 - acc: 0.9903 - val_loss: 0.1178 - val_acc: 0.9613\n",
            "\n",
            "Epoch 00040: val_acc did not improve from 0.98710\n",
            "Epoch 41/150\n",
            "84/84 [==============================] - 44s 519ms/step - loss: 0.0121 - acc: 0.9970 - val_loss: 0.1037 - val_acc: 0.9710\n",
            "\n",
            "Epoch 00041: val_acc did not improve from 0.98710\n",
            "Epoch 42/150\n",
            "84/84 [==============================] - 44s 523ms/step - loss: 0.0135 - acc: 0.9940 - val_loss: 0.1088 - val_acc: 0.9613\n",
            "\n",
            "Epoch 00042: val_acc did not improve from 0.98710\n",
            "Epoch 43/150\n",
            "84/84 [==============================] - 42s 503ms/step - loss: 0.0110 - acc: 0.9955 - val_loss: 0.1305 - val_acc: 0.9531\n",
            "\n",
            "Epoch 00043: val_acc did not improve from 0.98710\n",
            "Epoch 44/150\n",
            "84/84 [==============================] - 42s 500ms/step - loss: 0.0153 - acc: 0.9926 - val_loss: 0.0830 - val_acc: 0.9677\n",
            "\n",
            "Epoch 00044: val_acc did not improve from 0.98710\n",
            "Epoch 45/150\n",
            "84/84 [==============================] - 40s 482ms/step - loss: 0.0066 - acc: 0.9985 - val_loss: 0.0691 - val_acc: 0.9710\n",
            "\n",
            "Epoch 00045: val_acc did not improve from 0.98710\n",
            "Epoch 46/150\n",
            "84/84 [==============================] - 40s 480ms/step - loss: 0.0146 - acc: 0.9963 - val_loss: 0.1083 - val_acc: 0.9645\n",
            "\n",
            "Epoch 00046: val_acc did not improve from 0.98710\n",
            "Epoch 47/150\n",
            "84/84 [==============================] - 43s 508ms/step - loss: 0.0181 - acc: 0.9948 - val_loss: 0.0848 - val_acc: 0.9645\n",
            "\n",
            "Epoch 00047: val_acc did not improve from 0.98710\n",
            "Epoch 48/150\n",
            "84/84 [==============================] - 43s 507ms/step - loss: 0.0227 - acc: 0.9903 - val_loss: 0.1143 - val_acc: 0.9613\n",
            "\n",
            "Epoch 00048: val_acc did not improve from 0.98710\n",
            "Epoch 49/150\n",
            "84/84 [==============================] - 44s 518ms/step - loss: 0.0196 - acc: 0.9927 - val_loss: 0.1341 - val_acc: 0.9484\n",
            "\n",
            "Epoch 00049: val_acc did not improve from 0.98710\n",
            "Epoch 50/150\n",
            "84/84 [==============================] - 44s 526ms/step - loss: 0.0296 - acc: 0.9926 - val_loss: 0.1311 - val_acc: 0.9452\n",
            "\n",
            "Epoch 00050: val_acc did not improve from 0.98710\n",
            "Epoch 51/150\n",
            "84/84 [==============================] - 44s 526ms/step - loss: 0.0114 - acc: 0.9955 - val_loss: 0.1606 - val_acc: 0.9516\n",
            "\n",
            "Epoch 00051: val_acc did not improve from 0.98710\n",
            "Epoch 00051: early stopping\n"
          ],
          "name": "stdout"
        }
      ]
    },
    {
      "cell_type": "code",
      "metadata": {
        "id": "11jnb2utLW-I",
        "colab_type": "code",
        "outputId": "ce13a9a9-d5dd-43d0-a0de-bafc8bc93213",
        "colab": {
          "base_uri": "https://localhost:8080/",
          "height": 312
        }
      },
      "source": [
        "\n",
        "print(history.history.keys())\n",
        "import matplotlib.pyplot as plt\n",
        "plt.plot(history.history['acc'])\n",
        "plt.plot(history.history['val_acc'],'g')\n",
        "plt.title('model accuracy')\n",
        "plt.ylabel('accuracy')\n",
        "plt.xlabel('epoch')\n",
        "plt.legend(['train', 'test'], loc='upper left')\n",
        "plt.show()"
      ],
      "execution_count": 0,
      "outputs": [
        {
          "output_type": "stream",
          "text": [
            "dict_keys(['val_loss', 'val_acc', 'loss', 'acc'])\n"
          ],
          "name": "stdout"
        },
        {
          "output_type": "display_data",
          "data": {
            "image/png": "[encoded data removed]",
            "text/plain": [
              "<Figure size 432x288 with 1 Axes>"
            ]
          },
          "metadata": {
            "tags": []
          }
        }
      ]
    },
    {
      "cell_type": "code",
      "metadata": {
        "id": "qb6LEngRyQFe",
        "colab_type": "code",
        "outputId": "e228ddb1-3751-459d-bf8a-54bc35ccba6f",
        "colab": {
          "base_uri": "https://localhost:8080/",
          "height": 295
        }
      },
      "source": [
        "plt.plot(history.history['loss'])\n",
        "plt.plot(history_2.history['loss'])\n",
        "plt.plot(history_3.history['loss'])\n",
        "plt.title('model loss')\n",
        "plt.ylabel('loss')\n",
        "plt.xlabel('epoch')\n",
        "plt.legend(['lr 1e-5', 'lr 1e-4', 'lr 1e-3'], loc='upper left')\n",
        "plt.show()"
      ],
      "execution_count": 0,
      "outputs": [
        {
          "output_type": "display_data",
          "data": {
            "image/png": "[encoded data removed]",
            "text/plain": [
              "<Figure size 432x288 with 1 Axes>"
            ]
          },
          "metadata": {
            "tags": []
          }
        }
      ]
    },
    {
      "cell_type": "code",
      "metadata": {
        "id": "Ap8fJ_DZyXQ7",
        "colab_type": "code",
        "outputId": "ad01b393-d440-4990-f904-21ec0d6fa9ad",
        "colab": {
          "base_uri": "https://localhost:8080/",
          "height": 1377
        }
      },
      "source": [
        "history2 = model_final.fit_generator(\n",
        "train_generator,\n",
        "steps_per_epoch = nb_train_samples//batch_size,\n",
        "epochs = 20,\n",
        "validation_data = validation_generator,\n",
        "validation_steps = nb_validation_samples//batch_size,\n",
        "callbacks = [checkpoint])"
      ],
      "execution_count": 0,
      "outputs": [
        {
          "output_type": "stream",
          "text": [
            "Epoch 1/20\n",
            "84/84 [==============================] - 37s 442ms/step - loss: 0.1303 - acc: 0.9511 - val_loss: 0.2622 - val_acc: 0.9000\n",
            "\n",
            "Epoch 00001: val_acc did not improve from 0.96562\n",
            "Epoch 2/20\n",
            "84/84 [==============================] - 33s 396ms/step - loss: 0.1175 - acc: 0.9554 - val_loss: 0.1931 - val_acc: 0.9226\n",
            "\n",
            "Epoch 00002: val_acc did not improve from 0.96562\n",
            "Epoch 3/20\n",
            "84/84 [==============================] - 34s 405ms/step - loss: 0.1316 - acc: 0.9464 - val_loss: 0.2120 - val_acc: 0.9129\n",
            "\n",
            "Epoch 00003: val_acc did not improve from 0.96562\n",
            "Epoch 4/20\n",
            "84/84 [==============================] - 34s 404ms/step - loss: 0.1303 - acc: 0.9481 - val_loss: 0.1553 - val_acc: 0.9258\n",
            "\n",
            "Epoch 00004: val_acc did not improve from 0.96562\n",
            "Epoch 5/20\n",
            "84/84 [==============================] - 33s 398ms/step - loss: 0.1336 - acc: 0.9479 - val_loss: 0.3004 - val_acc: 0.8581\n",
            "\n",
            "Epoch 00005: val_acc did not improve from 0.96562\n",
            "Epoch 6/20\n",
            "84/84 [==============================] - 35s 411ms/step - loss: 0.1212 - acc: 0.9570 - val_loss: 0.1972 - val_acc: 0.9323\n",
            "\n",
            "Epoch 00006: val_acc did not improve from 0.96562\n",
            "Epoch 7/20\n",
            "84/84 [==============================] - 35s 418ms/step - loss: 0.1142 - acc: 0.9563 - val_loss: 0.2243 - val_acc: 0.9125\n",
            "\n",
            "Epoch 00007: val_acc did not improve from 0.96562\n",
            "Epoch 8/20\n",
            "84/84 [==============================] - 34s 406ms/step - loss: 0.1284 - acc: 0.9487 - val_loss: 0.2378 - val_acc: 0.9129\n",
            "\n",
            "Epoch 00008: val_acc did not improve from 0.96562\n",
            "Epoch 9/20\n",
            "84/84 [==============================] - 35s 412ms/step - loss: 0.1417 - acc: 0.9473 - val_loss: 0.2151 - val_acc: 0.9226\n",
            "\n",
            "Epoch 00009: val_acc did not improve from 0.96562\n",
            "Epoch 10/20\n",
            "84/84 [==============================] - 34s 405ms/step - loss: 0.1276 - acc: 0.9466 - val_loss: 0.2032 - val_acc: 0.9129\n",
            "\n",
            "Epoch 00010: val_acc did not improve from 0.96562\n",
            "Epoch 11/20\n",
            "84/84 [==============================] - 34s 402ms/step - loss: 0.1053 - acc: 0.9585 - val_loss: 0.2127 - val_acc: 0.9161\n",
            "\n",
            "Epoch 00011: val_acc did not improve from 0.96562\n",
            "Epoch 12/20\n",
            "84/84 [==============================] - 34s 409ms/step - loss: 0.1058 - acc: 0.9665 - val_loss: 0.1571 - val_acc: 0.9452\n",
            "\n",
            "Epoch 00012: val_acc did not improve from 0.96562\n",
            "Epoch 13/20\n",
            "84/84 [==============================] - 34s 402ms/step - loss: 0.1307 - acc: 0.9568 - val_loss: 0.2100 - val_acc: 0.9290\n",
            "\n",
            "Epoch 00013: val_acc did not improve from 0.96562\n",
            "Epoch 14/20\n",
            "84/84 [==============================] - 34s 405ms/step - loss: 0.1062 - acc: 0.9606 - val_loss: 0.2445 - val_acc: 0.8935\n",
            "\n",
            "Epoch 00014: val_acc did not improve from 0.96562\n",
            "Epoch 15/20\n",
            "84/84 [==============================] - 35s 413ms/step - loss: 0.1233 - acc: 0.9518 - val_loss: 0.1990 - val_acc: 0.9194\n",
            "\n",
            "Epoch 00015: val_acc did not improve from 0.96562\n",
            "Epoch 16/20\n",
            "84/84 [==============================] - 35s 416ms/step - loss: 0.1282 - acc: 0.9509 - val_loss: 0.2102 - val_acc: 0.9097\n",
            "\n",
            "Epoch 00016: val_acc did not improve from 0.96562\n",
            "Epoch 17/20\n",
            "84/84 [==============================] - 35s 413ms/step - loss: 0.1129 - acc: 0.9643 - val_loss: 0.3138 - val_acc: 0.8645\n",
            "\n",
            "Epoch 00017: val_acc did not improve from 0.96562\n",
            "Epoch 18/20\n",
            "84/84 [==============================] - 35s 419ms/step - loss: 0.1304 - acc: 0.9524 - val_loss: 0.1452 - val_acc: 0.9452\n",
            "\n",
            "Epoch 00018: val_acc did not improve from 0.96562\n",
            "Epoch 19/20\n",
            "84/84 [==============================] - 35s 413ms/step - loss: 0.1117 - acc: 0.9635 - val_loss: 0.1707 - val_acc: 0.9387\n",
            "\n",
            "Epoch 00019: val_acc did not improve from 0.96562\n",
            "Epoch 20/20\n",
            "84/84 [==============================] - 35s 417ms/step - loss: 0.1252 - acc: 0.9539 - val_loss: 0.1947 - val_acc: 0.9258\n",
            "\n",
            "Epoch 00020: val_acc did not improve from 0.96562\n"
          ],
          "name": "stdout"
        }
      ]
    },
    {
      "cell_type": "code",
      "metadata": {
        "id": "5u8iBWmU4UDb",
        "colab_type": "code",
        "colab": {}
      },
      "source": [
        "from keras.models import load_model\n",
        "from keras.preprocessing import image\n",
        "import numpy as np\n",
        "import os\n",
        "\n",
        "folder_path = '/content/drive/My Drive/test_AI_new/dent'\n",
        "# load all images into a list\n",
        "images = []\n",
        "for img in os.listdir(folder_path):\n",
        "    img = image.load_img(folder_path+'/'+img, target_size=(img_width, img_height))\n",
        "    img = image.img_to_array(img)\n",
        "    img = np.expand_dims(img, axis=0)\n",
        "    images.append(img)\n",
        "\n"
      ],
      "execution_count": 0,
      "outputs": []
    },
    {
      "cell_type": "code",
      "metadata": {
        "id": "ooC-FoqaXgb6",
        "colab_type": "code",
        "colab": {}
      },
      "source": [
        "folder_path = '/content/drive/My Drive/test_AI_new/No dent'\n",
        "for img in os.listdir(folder_path):\n",
        "    img = image.load_img(folder_path+'/'+img, target_size=(img_width, img_height))\n",
        "    img = image.img_to_array(img)\n",
        "    img = np.expand_dims(img, axis=0)\n",
        "    images.append(img)"
      ],
      "execution_count": 0,
      "outputs": []
    },
    {
      "cell_type": "code",
      "metadata": {
        "id": "2zLDE6nGYBCV",
        "colab_type": "code",
        "colab": {}
      },
      "source": [
        "np.save(open('/content/drive/My Drive/validation_set.npy', 'wb'),images)"
      ],
      "execution_count": 0,
      "outputs": []
    },
    {
      "cell_type": "code",
      "metadata": {
        "id": "PP9U5PjLYEOl",
        "colab_type": "code",
        "colab": {}
      },
      "source": [
        "validation_data = np.load(open('/content/drive/My Drive/validation_set.npy', 'rb'))\n",
        "validation_labels =  np.array([0] * 27 + [1] * 26)"
      ],
      "execution_count": 0,
      "outputs": []
    },
    {
      "cell_type": "code",
      "metadata": {
        "id": "dTRLMq1wYGzx",
        "colab_type": "code",
        "colab": {}
      },
      "source": [
        "classes = []\n",
        "res=[]\n",
        "for i in validation_data:\n",
        "  preds = model_final.predict(i)\n",
        "  classes.append(preds)\n",
        "\n",
        "for i in classes:\n",
        "  if i<0.5:\n",
        "    res.append(0)\n",
        "  else:\n",
        "    res.append(1)  "
      ],
      "execution_count": 0,
      "outputs": []
    },
    {
      "cell_type": "code",
      "metadata": {
        "id": "6jWY5fHHYSVC",
        "colab_type": "code",
        "outputId": "5488b3da-6c28-44ea-9889-119f3ea4c39a",
        "colab": {
          "base_uri": "https://localhost:8080/",
          "height": 34
        }
      },
      "source": [
        "np.mean(res==validation_labels)"
      ],
      "execution_count": 0,
      "outputs": [
        {
          "output_type": "execute_result",
          "data": {
            "text/plain": [
              "0.9245283018867925"
            ]
          },
          "metadata": {
            "tags": []
          },
          "execution_count": 34
        }
      ]
    },
    {
      "cell_type": "code",
      "metadata": {
        "id": "HbFEI8U_YTLf",
        "colab_type": "code",
        "outputId": "e47d85f6-84d9-48b7-cffa-0b5345abbe21",
        "colab": {
          "base_uri": "https://localhost:8080/",
          "height": 312
        }
      },
      "source": [
        "print(history.history.keys())\n",
        "import matplotlib.pyplot as plt\n",
        "plt.plot(history.history['acc'])\n",
        "plt.plot(history.history['val_acc'])\n",
        "plt.title('model accuracy')\n",
        "plt.ylabel('accuracy')\n",
        "plt.xlabel('epoch')\n",
        "plt.legend(['train', 'test'], loc='upper left')\n",
        "plt.show()"
      ],
      "execution_count": 0,
      "outputs": [
        {
          "output_type": "stream",
          "text": [
            "dict_keys(['val_loss', 'val_acc', 'loss', 'acc'])\n"
          ],
          "name": "stdout"
        },
        {
          "output_type": "display_data",
          "data": {
            "image/png": "[encoded data removed]",
            "text/plain": [
              "<Figure size 432x288 with 1 Axes>"
            ]
          },
          "metadata": {
            "tags": []
          }
        }
      ]
    },
    {
      "cell_type": "code",
      "metadata": {
        "id": "xBfeSlgWjciD",
        "colab_type": "code",
        "outputId": "23cf559c-edcd-4e26-b760-a31ee202eb6e",
        "colab": {
          "base_uri": "https://localhost:8080/",
          "height": 295
        }
      },
      "source": [
        "plt.plot(history.history['loss'])\n",
        "plt.plot(history.history['val_loss'])\n",
        "plt.title('model loss')\n",
        "plt.ylabel('loss')\n",
        "plt.xlabel('epoch')\n",
        "plt.legend(['train', 'test'], loc='upper left')\n",
        "plt.show()"
      ],
      "execution_count": 0,
      "outputs": [
        {
          "output_type": "display_data",
          "data": {
            "image/png": "[encoded data removed]",
            "text/plain": [
              "<Figure size 432x288 with 1 Axes>"
            ]
          },
          "metadata": {
            "tags": []
          }
        }
      ]
    },
    {
      "cell_type": "code",
      "metadata": {
        "id": "jYmfiy9ejf2j",
        "colab_type": "code",
        "outputId": "b991b56c-9818-4af5-a141-b58c1969f731",
        "colab": {
          "base_uri": "https://localhost:8080/",
          "height": 312
        }
      },
      "source": [
        "print(history.history.keys())\n",
        "import matplotlib.pyplot as plt\n",
        "plt.plot(history.history['acc'])\n",
        "plt.plot(history.history['val_acc'])\n",
        "plt.title('model accuracy')\n",
        "plt.ylabel('accuracy')\n",
        "plt.xlabel('epoch')\n",
        "plt.legend(['train', 'test'], loc='upper left')\n",
        "plt.show()"
      ],
      "execution_count": 0,
      "outputs": [
        {
          "output_type": "stream",
          "text": [
            "dict_keys(['val_loss', 'val_acc', 'loss', 'acc'])\n"
          ],
          "name": "stdout"
        },
        {
          "output_type": "display_data",
          "data": {
            "image/png": "[encoded data removed]",
            "text/plain": [
              "<Figure size 432x288 with 1 Axes>"
            ]
          },
          "metadata": {
            "tags": []
          }
        }
      ]
    },
    {
      "cell_type": "code",
      "metadata": {
        "id": "m-euaBIy9yPm",
        "colab_type": "code",
        "colab": {}
      },
      "source": [
        "from keras.models import load_model\n",
        "from keras.preprocessing import image\n",
        "import numpy as np\n",
        "import os\n",
        "\n",
        "folder_path = '/content/drive/My Drive/validation_AI_new/Dent'\n",
        "model_final.load_weights(\"/content/drive/My Drive/imagenew_sgd1.h5\")\n",
        "img_width, img_height = 224,224"
      ],
      "execution_count": 0,
      "outputs": []
    },
    {
      "cell_type": "code",
      "metadata": {
        "id": "g2-RZHnFGmGe",
        "colab_type": "code",
        "colab": {}
      },
      "source": [
        "\n",
        "# load all images into a list\n",
        "images = []\n",
        "for img in os.listdir(folder_path):\n",
        "    img = image.load_img(folder_path+'/'+img, target_size=(img_width, img_height))\n",
        "    img = image.img_to_array(img)\n",
        "    img = np.expand_dims(img, axis=0)\n",
        "    images.append(img)\n",
        "\n"
      ],
      "execution_count": 0,
      "outputs": []
    },
    {
      "cell_type": "code",
      "metadata": {
        "id": "bsVwHsafapLn",
        "colab_type": "code",
        "colab": {}
      },
      "source": [
        "folder_path = '/content/drive/My Drive/validation_AI_new/No Dent'\n",
        "for img in os.listdir(folder_path):\n",
        "    img = image.load_img(folder_path+'/'+img, target_size=(img_width, img_height))\n",
        "    img = image.img_to_array(img)\n",
        "    img = np.expand_dims(img, axis=0)\n",
        "    images.append(img)"
      ],
      "execution_count": 0,
      "outputs": []
    },
    {
      "cell_type": "code",
      "metadata": {
        "id": "9ZxZETnTaxso",
        "colab_type": "code",
        "colab": {}
      },
      "source": [
        "np.save(open('/content/drive/My Drive/validation_set.npy', 'wb'),images)"
      ],
      "execution_count": 0,
      "outputs": []
    },
    {
      "cell_type": "code",
      "metadata": {
        "id": "1Ao3ssnda0z0",
        "colab_type": "code",
        "colab": {}
      },
      "source": [
        "validation_data = np.load(open('/content/drive/My Drive/validation_set.npy', 'rb'))\n",
        "validation_labels = np.array([0] * 176 + [1] * 150)"
      ],
      "execution_count": 0,
      "outputs": []
    },
    {
      "cell_type": "code",
      "metadata": {
        "id": "_ftBM7Zsa2dW",
        "colab_type": "code",
        "colab": {}
      },
      "source": [
        "classes = []\n",
        "for i in validation_data:\n",
        "  preds = model_final.predict(i)\n",
        "  classes.append(preds)"
      ],
      "execution_count": 0,
      "outputs": []
    },
    {
      "cell_type": "code",
      "metadata": {
        "id": "qSyxdp5Da4Nv",
        "colab_type": "code",
        "colab": {}
      },
      "source": [
        "res = []\n",
        "for i in classes:\n",
        "  if i<0.5:\n",
        "    res.append(0)\n",
        "  else:\n",
        "    res.append(1)"
      ],
      "execution_count": 0,
      "outputs": []
    },
    {
      "cell_type": "code",
      "metadata": {
        "id": "gCdsKFNqa6CF",
        "colab_type": "code",
        "outputId": "4b88ab33-9dee-48b4-bb8c-a2326d92c83c",
        "colab": {
          "base_uri": "https://localhost:8080/",
          "height": 34
        }
      },
      "source": [
        "np.mean(res==validation_labels)"
      ],
      "execution_count": 0,
      "outputs": [
        {
          "output_type": "execute_result",
          "data": {
            "text/plain": [
              "0.9233128834355828"
            ]
          },
          "metadata": {
            "tags": []
          },
          "execution_count": 168
        }
      ]
    },
    {
      "cell_type": "code",
      "metadata": {
        "id": "uS9BnYC5a8IO",
        "colab_type": "code",
        "outputId": "3f5ebab1-edf9-4f6f-cc2d-7e9e3794baeb",
        "colab": {
          "base_uri": "https://localhost:8080/",
          "height": 84
        }
      },
      "source": [
        "import pandas as pd\n",
        "from sklearn.metrics import classification_report, confusion_matrix\n",
        "cm = confusion_matrix(validation_labels, res)\n",
        "cm_df = pd.DataFrame(cm.T, index=['Dent', 'No Dent'], columns=['Dent', 'No Dent'])\n",
        "cm_df.index.name = 'Predicted'\n",
        "cm_df.columns.name = 'True'\n",
        "print(cm_df)"
      ],
      "execution_count": 0,
      "outputs": [
        {
          "output_type": "stream",
          "text": [
            "True       Dent  No Dent\n",
            "Predicted               \n",
            "Dent        151        0\n",
            "No Dent      25      150\n"
          ],
          "name": "stdout"
        }
      ]
    },
    {
      "cell_type": "code",
      "metadata": {
        "id": "E1VX6dFi5__N",
        "colab_type": "code",
        "colab": {}
      },
      "source": [
        "#27 dent #26 no dent\n",
        "folder_path = '/content/drive/My Drive/test_AI_new/dent'\n",
        "\n",
        "# load all images into a list\n",
        "images = []\n",
        "for img in os.listdir(folder_path):\n",
        "    img = image.load_img(folder_path+'/'+img, target_size=(img_width, img_height))\n",
        "    img = image.img_to_array(img)\n",
        "    img = np.expand_dims(img, axis=0)\n",
        "    images.append(img)\n"
      ],
      "execution_count": 0,
      "outputs": []
    },
    {
      "cell_type": "code",
      "metadata": {
        "id": "qr-pxG197Vaj",
        "colab_type": "code",
        "colab": {}
      },
      "source": [
        "folder_path = '/content/drive/My Drive/test_AI_new/No dent'\n",
        "for img in os.listdir(folder_path):\n",
        "    img = image.load_img(folder_path+'/'+img, target_size=(img_width, img_height))\n",
        "    img = image.img_to_array(img)\n",
        "    img = np.expand_dims(img, axis=0)\n",
        "    images.append(img)"
      ],
      "execution_count": 0,
      "outputs": []
    },
    {
      "cell_type": "code",
      "metadata": {
        "id": "wVptTW4m7XfW",
        "colab_type": "code",
        "colab": {}
      },
      "source": [
        "np.save(open('/content/drive/My Drive/test_set.npy', 'wb'),\n",
        "            images)\n"
      ],
      "execution_count": 0,
      "outputs": []
    },
    {
      "cell_type": "code",
      "metadata": {
        "id": "5jlSHMTv7Zya",
        "colab_type": "code",
        "outputId": "dd178482-4030-4c04-89d6-b7e6f90674b9",
        "colab": {
          "base_uri": "https://localhost:8080/",
          "height": 34
        }
      },
      "source": [
        "test_data = np.load(open('/content/drive/My Drive/test_set.npy', 'rb'))\n",
        "print(test_data.shape)\n",
        "test_labels = np.array([0] * 27 + [1] * 26)"
      ],
      "execution_count": 0,
      "outputs": [
        {
          "output_type": "stream",
          "text": [
            "(53, 1, 224, 224, 3)\n"
          ],
          "name": "stdout"
        }
      ]
    },
    {
      "cell_type": "code",
      "metadata": {
        "id": "mVhk0rSj7b86",
        "colab_type": "code",
        "colab": {}
      },
      "source": [
        "classes_2 = []\n",
        "for i in test_data:\n",
        "  preds = model_final.predict(i)\n",
        "  classes_2.append(preds)"
      ],
      "execution_count": 0,
      "outputs": []
    },
    {
      "cell_type": "code",
      "metadata": {
        "id": "u6ZXk_ih7dls",
        "colab_type": "code",
        "colab": {}
      },
      "source": [
        "res_2 = []\n",
        "for i in classes_2:\n",
        "  if i<0.5:\n",
        "    res_2.append(0)\n",
        "  else:\n",
        "    res_2.append(1)"
      ],
      "execution_count": 0,
      "outputs": []
    },
    {
      "cell_type": "code",
      "metadata": {
        "id": "epFNqLOr7fTe",
        "colab_type": "code",
        "outputId": "dec33b70-768f-4d99-9ef3-d7e52ad3b8f4",
        "colab": {
          "base_uri": "https://localhost:8080/",
          "height": 84
        }
      },
      "source": [
        "import pandas as pd\n",
        "from sklearn.metrics import classification_report, confusion_matrix\n",
        "cm = confusion_matrix(test_labels, res_2)\n",
        "cm_df = pd.DataFrame(cm.T, index=['Dent', 'No Dent'], columns=['Dent', 'No Dent'])\n",
        "cm_df.index.name = 'Predicted'\n",
        "cm_df.columns.name = 'True'\n",
        "print(cm_df)"
      ],
      "execution_count": 0,
      "outputs": [
        {
          "output_type": "stream",
          "text": [
            "True       Dent  No Dent\n",
            "Predicted               \n",
            "Dent         27        0\n",
            "No Dent       0       26\n"
          ],
          "name": "stdout"
        }
      ]
    },
    {
      "cell_type": "code",
      "metadata": {
        "id": "NhiTBQ5O7jEX",
        "colab_type": "code",
        "colab": {}
      },
      "source": [
        ""
      ],
      "execution_count": 0,
      "outputs": []
    }
  ]
}